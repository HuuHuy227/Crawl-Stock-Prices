{
  "cells": [
    {
      "cell_type": "code",
      "execution_count": null,
      "id": "f2174c9f",
      "metadata": {
        "id": "f2174c9f"
      },
      "outputs": [],
      "source": [
        "from selenium import webdriver\n",
        "from selenium.webdriver.chrome.service import Service\n",
        "from webdriver_manager.chrome import ChromeDriverManager\n",
        "import pandas as pd\n",
        "from time import sleep\n",
        "from selenium.webdriver.common.by import By\n",
        "from bs4 import BeautifulSoup\n",
        "from datetime import date,timedelta,datetime"
      ]
    },
    {
      "cell_type": "markdown",
      "id": "9f77c28a",
      "metadata": {
        "id": "9f77c28a"
      },
      "source": [
        "### Get all days from 1-1-2020 to current date"
      ]
    },
    {
      "cell_type": "code",
      "execution_count": null,
      "id": "96c5a4bd",
      "metadata": {
        "id": "96c5a4bd"
      },
      "outputs": [],
      "source": [
        "d0 = date(2020, 1, 1) \n",
        "d1 = datetime.date(datetime.now())  #datetime.today() \n",
        "delta = d1 - d0\n",
        "\n",
        "base = datetime.today() # Get the current date\n",
        "date_list = [(base - timedelta(days=x)).strftime('%d/%m/%Y') for x in range(delta.days)]"
      ]
    },
    {
      "cell_type": "code",
      "execution_count": null,
      "id": "fd62872f",
      "metadata": {
        "id": "fd62872f",
        "outputId": "e8ddf895-02d6-449f-e180-1c25dee9b266"
      },
      "outputs": [
        {
          "data": {
            "text/plain": [
              "876"
            ]
          },
          "execution_count": 3,
          "metadata": {},
          "output_type": "execute_result"
        }
      ],
      "source": [
        "date_list = date_list[1:] # Remove the current day\n",
        "len(date_list)"
      ]
    },
    {
      "cell_type": "markdown",
      "id": "a3b808ba",
      "metadata": {
        "id": "a3b808ba"
      },
      "source": [
        "### Open the chrome browser and login"
      ]
    },
    {
      "cell_type": "code",
      "execution_count": null,
      "id": "857db17e",
      "metadata": {
        "id": "857db17e",
        "outputId": "2cebb20e-ddc0-43a2-b05f-b28475fe0b3c"
      },
      "outputs": [
        {
          "name": "stderr",
          "output_type": "stream",
          "text": [
            "\n",
            "\n",
            "====== WebDriver manager ======\n",
            "Current google-chrome version is 101.0.4951\n",
            "Get LATEST chromedriver version for 101.0.4951 google-chrome\n",
            "Driver [C:\\Users\\lenovo\\.wdm\\drivers\\chromedriver\\win32\\101.0.4951.41\\chromedriver.exe] found in cache\n"
          ]
        }
      ],
      "source": [
        "#Using chromedriver to open browser which install automaticly\n",
        "browser = webdriver.Chrome(service=Service(ChromeDriverManager().install()))\n",
        "# Open the browser with the link\n",
        "browser.get(\"https://finance.vietstock.vn/ket-qua-giao-dich\")\n",
        "sleep(2)"
      ]
    },
    {
      "cell_type": "code",
      "execution_count": null,
      "id": "71e167cb",
      "metadata": {
        "id": "71e167cb"
      },
      "outputs": [],
      "source": [
        "#Click the login button\n",
        "browser.find_element(By.XPATH, \"/html/body/div[2]/div[6]/div/div[2]/div[2]/a[3]\").click()"
      ]
    },
    {
      "cell_type": "code",
      "execution_count": null,
      "id": "c1c328e7",
      "metadata": {
        "id": "c1c328e7"
      },
      "outputs": [],
      "source": [
        "EMAIL = 'teon11223@gmail.com'\n",
        "PASSWORD = '412001'\n",
        "# Fill in login form and click the login button\n",
        "email_field = browser.find_element(By.ID, \"txtEmailLogin\")\n",
        "email_field.send_keys(EMAIL)\n",
        "sleep(2)\n",
        "password_field = browser.find_element(By.ID, \"txtPassword\")\n",
        "password_field.send_keys(PASSWORD)\n",
        "sleep(2)\n",
        "browser.find_element(By.ID, \"btnLoginAccount\").click()\n",
        "sleep(1)"
      ]
    },
    {
      "cell_type": "markdown",
      "id": "192b9934",
      "metadata": {
        "id": "192b9934"
      },
      "source": [
        "### Crawl data"
      ]
    },
    {
      "cell_type": "code",
      "execution_count": null,
      "id": "69db5220",
      "metadata": {
        "id": "69db5220"
      },
      "outputs": [],
      "source": [
        "def crawl_stock_price():\n",
        "    page_source = BeautifulSoup(browser.page_source)\n",
        "    rows = page_source.find_all('tr')[9:]\n",
        "    crawled_data = []\n",
        "    for tr in rows:\n",
        "        lst_td = tr.find_all('td')\n",
        "        crawled_data.append([lst_td[1].text,lst_td[2].text,lst_td[5].text])\n",
        "    \n",
        "    return crawled_data"
      ]
    },
    {
      "cell_type": "code",
      "execution_count": null,
      "id": "d9a11101",
      "metadata": {
        "id": "d9a11101"
      },
      "outputs": [],
      "source": [
        "def crawl_100_symbol_day():\n",
        "    data = crawl_stock_price()\n",
        "    while len(data) != 100: # Get 100 stock symbols\n",
        "        # Click the next button\n",
        "        browser.find_element(By.ID, \"btn-page-next\").click()\n",
        "        sleep(5)\n",
        "        crawl_dt = crawl_stock_price()\n",
        "        if crawl_dt not in data:\n",
        "            data.extend(crawl_dt)\n",
        "        sleep(2)\n",
        "    return data"
      ]
    },
    {
      "cell_type": "code",
      "execution_count": null,
      "id": "8a9124dd",
      "metadata": {
        "id": "8a9124dd"
      },
      "outputs": [],
      "source": [
        "data = crawl_100_symbol_day()\n",
        "browser.find_element(By.XPATH, \"//*[@id='view-tab']/li[1]/a\").click()\n",
        "sleep(2)\n",
        "\n",
        "for day in date_list:\n",
        "    # Scroll window to coordinates that get get needed element\n",
        "    browser.execute_script('window.scrollTo(0,260);')\n",
        "    sleep(1)\n",
        "    # Send key to from date field\n",
        "    from_date = browser.find_element(By.XPATH, \"//*[@id='txtFromDate']/input\")\n",
        "    from_date.clear()\n",
        "    from_date.send_keys(day)\n",
        "    sleep(2)\n",
        "    # Send key to date field\n",
        "    to_date = browser.find_element(By.XPATH, \"//*[@id='txtToDate']/input\")\n",
        "    to_date.clear()\n",
        "    to_date.send_keys(day)\n",
        "    sleep(2)\n",
        "    # Click Xem button\n",
        "    browser.find_element(By.XPATH, \"//*[@id='trading-result']/div/div[1]/div[1]/div/div[2]/button\").click()\n",
        "    sleep(2)\n",
        "    \n",
        "    data.extend(crawl_100_symbol_day())\n",
        "    browser.find_element(By.XPATH, \"//*[@id='view-tab']/li[1]/a\").click()\n",
        "    sleep(2)"
      ]
    },
    {
      "cell_type": "code",
      "execution_count": null,
      "id": "797131da",
      "metadata": {
        "id": "797131da",
        "outputId": "0cdf377d-fe78-4997-98e4-8cf6933a7abe"
      },
      "outputs": [
        {
          "data": {
            "text/plain": [
              "87700"
            ]
          },
          "execution_count": 18,
          "metadata": {},
          "output_type": "execute_result"
        }
      ],
      "source": [
        "len(data)"
      ]
    },
    {
      "cell_type": "code",
      "execution_count": null,
      "id": "169b264f",
      "metadata": {
        "id": "169b264f",
        "outputId": "7657f711-14df-4fcb-eca4-68888dbcd3bc"
      },
      "outputs": [
        {
          "data": {
            "text/html": [
              "<div>\n",
              "<style scoped>\n",
              "    .dataframe tbody tr th:only-of-type {\n",
              "        vertical-align: middle;\n",
              "    }\n",
              "\n",
              "    .dataframe tbody tr th {\n",
              "        vertical-align: top;\n",
              "    }\n",
              "\n",
              "    .dataframe thead th {\n",
              "        text-align: right;\n",
              "    }\n",
              "</style>\n",
              "<table border=\"1\" class=\"dataframe\">\n",
              "  <thead>\n",
              "    <tr style=\"text-align: right;\">\n",
              "      <th></th>\n",
              "      <th>Date</th>\n",
              "      <th>Symbols</th>\n",
              "      <th>Close Prices</th>\n",
              "    </tr>\n",
              "  </thead>\n",
              "  <tbody>\n",
              "    <tr>\n",
              "      <th>0</th>\n",
              "      <td>27/05/2022</td>\n",
              "      <td>AAA</td>\n",
              "      <td>12.65</td>\n",
              "    </tr>\n",
              "    <tr>\n",
              "      <th>1</th>\n",
              "      <td>27/05/2022</td>\n",
              "      <td>AAM</td>\n",
              "      <td>12.40</td>\n",
              "    </tr>\n",
              "    <tr>\n",
              "      <th>2</th>\n",
              "      <td>27/05/2022</td>\n",
              "      <td>AAT</td>\n",
              "      <td>15.10</td>\n",
              "    </tr>\n",
              "    <tr>\n",
              "      <th>3</th>\n",
              "      <td>27/05/2022</td>\n",
              "      <td>ABR</td>\n",
              "      <td>19.50</td>\n",
              "    </tr>\n",
              "    <tr>\n",
              "      <th>4</th>\n",
              "      <td>27/05/2022</td>\n",
              "      <td>ABS</td>\n",
              "      <td>13.90</td>\n",
              "    </tr>\n",
              "  </tbody>\n",
              "</table>\n",
              "</div>"
            ],
            "text/plain": [
              "         Date Symbols Close Prices\n",
              "0  27/05/2022     AAA        12.65\n",
              "1  27/05/2022     AAM        12.40\n",
              "2  27/05/2022     AAT        15.10\n",
              "3  27/05/2022     ABR        19.50\n",
              "4  27/05/2022     ABS        13.90"
            ]
          },
          "execution_count": 19,
          "metadata": {},
          "output_type": "execute_result"
        }
      ],
      "source": [
        "#Convert data list to dataframe\n",
        "df = pd.DataFrame(data, columns=['Date','Symbols','Close Prices'])\n",
        "df.head()"
      ]
    },
    {
      "cell_type": "code",
      "execution_count": null,
      "id": "6504a203",
      "metadata": {
        "id": "6504a203",
        "outputId": "3d2d986d-3cbb-495e-9cf0-f3f3d4afb7b5"
      },
      "outputs": [
        {
          "name": "stdout",
          "output_type": "stream",
          "text": [
            "<class 'pandas.core.frame.DataFrame'>\n",
            "RangeIndex: 87700 entries, 0 to 87699\n",
            "Data columns (total 3 columns):\n",
            " #   Column        Non-Null Count  Dtype \n",
            "---  ------        --------------  ----- \n",
            " 0   Date          87700 non-null  object\n",
            " 1   Symbols       87700 non-null  object\n",
            " 2   Close Prices  87700 non-null  object\n",
            "dtypes: object(3)\n",
            "memory usage: 2.0+ MB\n"
          ]
        }
      ],
      "source": [
        "df.info()"
      ]
    },
    {
      "cell_type": "code",
      "execution_count": null,
      "id": "a0503c47",
      "metadata": {
        "id": "a0503c47"
      },
      "outputs": [],
      "source": [
        "#Save dataframe to file .csv\n",
        "df.to_csv('Crawl_Stock_Prices.csv')"
      ]
    },
    {
      "cell_type": "code",
      "execution_count": null,
      "id": "d58cf04e",
      "metadata": {
        "id": "d58cf04e"
      },
      "outputs": [],
      "source": [
        ""
      ]
    }
  ],
  "metadata": {
    "kernelspec": {
      "display_name": "Python 3 (ipykernel)",
      "language": "python",
      "name": "python3"
    },
    "language_info": {
      "codemirror_mode": {
        "name": "ipython",
        "version": 3
      },
      "file_extension": ".py",
      "mimetype": "text/x-python",
      "name": "python",
      "nbconvert_exporter": "python",
      "pygments_lexer": "ipython3",
      "version": "3.10.2"
    },
    "colab": {
      "name": "Crawl Stock Prices.ipynb",
      "provenance": []
    }
  },
  "nbformat": 4,
  "nbformat_minor": 5
}